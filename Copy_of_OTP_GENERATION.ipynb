{
  "nbformat": 4,
  "nbformat_minor": 0,
  "metadata": {
    "colab": {
      "provenance": [],
      "authorship_tag": "ABX9TyMYJu46yUaeiZNIOBx6TgFb",
      "include_colab_link": true
    },
    "kernelspec": {
      "name": "python3",
      "display_name": "Python 3"
    },
    "language_info": {
      "name": "python"
    }
  },
  "cells": [
    {
      "cell_type": "markdown",
      "metadata": {
        "id": "view-in-github",
        "colab_type": "text"
      },
      "source": [
        "<a href=\"https://colab.research.google.com/github/supreeth28/PYTHON-PROJECT/blob/main/Copy_of_OTP_GENERATION.ipynb\" target=\"_parent\"><img src=\"https://colab.research.google.com/assets/colab-badge.svg\" alt=\"Open In Colab\"/></a>"
      ]
    },
    {
      "cell_type": "code",
      "execution_count": null,
      "metadata": {
        "colab": {
          "base_uri": "https://localhost:8080/"
        },
        "id": "AO5uw-3LOJqS",
        "outputId": "38091d6f-6111-4fd5-abae-758adf730704"
      },
      "outputs": [
        {
          "output_type": "stream",
          "name": "stdout",
          "text": [
            "Your OTP is: 204408\n",
            "Enter the OTP: 204408\n",
            "OTP verified. Proceed with the transaction.\n",
            "Welcome to the Cardless ATM Service\n",
            "OTP sent to your registered mobile number: 902985\n",
            "Enter the OTP: 902985\n",
            "OTP verified successfully!\n",
            "Enter the amount to withdraw: 450000\n",
            "Amount exceeds limit for cardless transactions.\n",
            "Model accuracy: 100.00%\n",
            "Welcome to the Cardless ATM Service\n",
            "OTP sent to your registered mobile number: 124870\n"
          ]
        }
      ],
      "source": [
        "import random\n",
        "\n",
        "def generate_otp():\n",
        "    otp = random.randint(100000, 999999)\n",
        "    return otp\n",
        "\n",
        "def verify_otp(user_otp, actual_otp):\n",
        "    if user_otp == actual_otp:\n",
        "        return True\n",
        "    else:\n",
        "        return False\n",
        "\n",
        "# Example usage\n",
        "otp = generate_otp()\n",
        "print(f\"Your OTP is: {otp}\")\n",
        "user_otp = int(input(\"Enter the OTP: \"))\n",
        "if verify_otp(user_otp, otp):\n",
        "    print(\"OTP verified. Proceed with the transaction.\")\n",
        "else:\n",
        "    print(\"Incorrect OTP. Transaction failed.\")\n",
        "\n",
        "\n",
        "def atm_interface():\n",
        "    print(\"Welcome to the Cardless ATM Service\")\n",
        "    otp = generate_otp()\n",
        "    print(f\"OTP sent to your registered mobile number: {otp}\")\n",
        "\n",
        "    user_otp = int(input(\"Enter the OTP: \"))\n",
        "\n",
        "    if verify_otp(user_otp, otp):\n",
        "        print(\"OTP verified successfully!\")\n",
        "        amount = float(input(\"Enter the amount to withdraw: \"))\n",
        "        if amount <= 10000:  # Assume a limit for cardless transactions\n",
        "            print(f\"Transaction successful! Please collect your cash: {amount}\")\n",
        "        else:\n",
        "            print(\"Amount exceeds limit for cardless transactions.\")\n",
        "    else:\n",
        "        print(\"Invalid OTP. Transaction denied.\")\n",
        "\n",
        "# Example usage\n",
        "atm_interface()\n",
        "\n",
        "\n",
        "from sklearn.tree import DecisionTreeClassifier\n",
        "from sklearn.model_selection import train_test_split\n",
        "from sklearn.metrics import accuracy_score\n",
        "\n",
        "# Example dataset (features: amount, time_of_day; label: 0 for legitimate, 1 for fraudulent)\n",
        "data = [\n",
        "    [100, 8, 0],  # [amount, time_of_day (24hr format), label]\n",
        "    [500, 15, 0],\n",
        "    [10000, 22, 1],\n",
        "    [5000, 3, 1],\n",
        "    [200, 14, 0],\n",
        "]\n",
        "\n",
        "# Prepare dataset\n",
        "X = [row[:2] for row in data]\n",
        "y = [row[2] for row in data]\n",
        "\n",
        "# Split the dataset\n",
        "X_train, X_test, y_train, y_test = train_test_split(X, y, test_size=0.3, random_state=42)\n",
        "\n",
        "# Train the model\n",
        "model = DecisionTreeClassifier()\n",
        "model.fit(X_train, y_train)\n",
        "\n",
        "# Predict and evaluate\n",
        "predictions = model.predict(X_test)\n",
        "accuracy = accuracy_score(y_test, predictions)\n",
        "\n",
        "print(f\"Model accuracy: {accuracy * 100:.2f}%\")\n",
        "\n",
        "# Integrate with ATM interface\n",
        "def fraud_detection(amount, time_of_day):\n",
        "    prediction = model.predict([[amount, time_of_day]])\n",
        "    return prediction[0] == 1\n",
        "\n",
        "# Example usage in ATM interface\n",
        "def atm_interface_with_fraud_detection():\n",
        "    print(\"Welcome to the Cardless ATM Service\")\n",
        "    otp = generate_otp()\n",
        "    print(f\"OTP sent to your registered mobile number: {otp}\")\n",
        "\n",
        "    user_otp = int(input(\"Enter the OTP: \"))\n",
        "\n",
        "    if verify_otp(user_otp, otp):\n",
        "        print(\"OTP verified successfully!\")\n",
        "        amount = float(input(\"Enter the amount to withdraw: \"))\n",
        "        time_of_day = int(input(\"Enter the time of day (0-23): \"))\n",
        "\n",
        "        if fraud_detection(amount, time_of_day):\n",
        "            print(\"Suspicious activity detected. Transaction denied.\")\n",
        "        else:\n",
        "            if amount <= 10000:  # Assume a limit for cardless transactions\n",
        "                print(f\"Transaction successful! Please collect your cash: {amount}\")\n",
        "            else:\n",
        "                print(\"Amount exceeds limit for cardless transactions.\")\n",
        "    else:\n",
        "        print(\"Invalid OTP. Transaction denied.\")\n",
        "\n",
        "# Example usage\n",
        "atm_interface_with_fraud_detection()"
      ]
    }
  ]
}